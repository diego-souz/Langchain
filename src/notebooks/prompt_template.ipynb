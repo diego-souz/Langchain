{
 "cells": [
  {
   "cell_type": "code",
   "execution_count": null,
   "metadata": {},
   "outputs": [],
   "source": [
    "from langchain_openai.llms import OpenAI\n",
    "\n",
    "llm = OpenAI()\n"
   ]
  },
  {
   "cell_type": "code",
   "execution_count": null,
   "metadata": {},
   "outputs": [],
   "source": [
    "from langchain.prompts import PromptTemplate\n",
    "\n",
    "prompt_template = PromptTemplate.from_template(\"\"\"\n",
    "    Responda a seguinte pergunta do usuário:\n",
    "    {pergunta}\n",
    "\"\"\"\n",
    ")\n"
   ]
  },
  {
   "cell_type": "code",
   "execution_count": null,
   "metadata": {},
   "outputs": [
    {
     "name": "stdout",
     "output_type": "stream",
     "text": [
      "\n",
      "    Responda a seguinte pergunta do usuário:\n",
      "    O que é um SaaS?\n",
      "\n"
     ]
    }
   ],
   "source": [
    "print(prompt_template.format(pergunta=\"O que é um SaaS?\"))\n"
   ]
  },
  {
   "cell_type": "code",
   "execution_count": null,
   "metadata": {},
   "outputs": [],
   "source": [
    "from langchain.prompts import PromptTemplate\n",
    "\n",
    "prompt_template = PromptTemplate.from_template(\"\"\"\n",
    "    Responda a seguinte pergunta do usuário em até {n_palavras} palavras:\n",
    "    {pergunta}\n",
    "\"\"\"\n",
    ")\n"
   ]
  },
  {
   "cell_type": "code",
   "execution_count": null,
   "metadata": {},
   "outputs": [
    {
     "name": "stdout",
     "output_type": "stream",
     "text": [
      "\n",
      "    Responda a seguinte pergunta do usuário em até 15 palavras:\n",
      "    O que é um SaaS?\n",
      "\n"
     ]
    }
   ],
   "source": [
    "print(prompt_template.format(pergunta=\"O que é um SaaS?\", n_palavras=15))\n"
   ]
  },
  {
   "cell_type": "code",
   "execution_count": null,
   "metadata": {},
   "outputs": [],
   "source": [
    "from langchain.prompts import PromptTemplate\n",
    "\n",
    "prompt_template = PromptTemplate.from_template(\"\"\"\n",
    "    Responda a seguinte pergunta do usuário em até {n_palavras} palavras:\n",
    "    {pergunta}\n",
    "\"\"\", partial_variables={\"n_palavras\": 10}\n",
    ")\n"
   ]
  },
  {
   "cell_type": "code",
   "execution_count": null,
   "metadata": {},
   "outputs": [
    {
     "name": "stdout",
     "output_type": "stream",
     "text": [
      "\n",
      "    Responda a seguinte pergunta do usuário em até 10 palavras:\n",
      "    O que é LangChain?\n",
      "\n"
     ]
    }
   ],
   "source": [
    "print(prompt_template.format(pergunta=\"O que é LangChain?\"))\n"
   ]
  },
  {
   "cell_type": "markdown",
   "metadata": {},
   "source": [
    "### Utilizando Múltiplos Prompts"
   ]
  },
  {
   "cell_type": "code",
   "execution_count": null,
   "metadata": {},
   "outputs": [],
   "source": [
    "from langchain.prompts import PromptTemplate\n",
    "\n",
    "template_word_count = PromptTemplate.from_template(\"\"\"\n",
    "Responda a pergunta em até {n_palavras} palavras.\n",
    "\"\"\"\n",
    ")\n",
    "\n",
    "template_line_count = PromptTemplate.from_template(\"\"\"\n",
    "Responda a pergunta em até {n_linhas} linhas.                                                 \n",
    "\"\"\"\n",
    ")\n",
    "\n",
    "template_idioma = PromptTemplate.from_template(\"\"\"\n",
    "Retorne a resposta em {idioma}.                                                 \n",
    "\"\"\"\n",
    ")\n",
    "\n",
    "template_final = (template_word_count + template_line_count + template_idioma +\n",
    "                  \"Responda a pergunta seguindo as instruções {pergunta}\")\n"
   ]
  },
  {
   "cell_type": "code",
   "execution_count": null,
   "metadata": {},
   "outputs": [
    {
     "name": "stdout",
     "output_type": "stream",
     "text": [
      "input_variables=['idioma', 'n_linhas', 'n_palavras', 'pergunta'] template='\\nResponda a pergunta em até {n_palavras} palavras.\\n\\nResponda a pergunta em até {n_linhas} linhas.                                                 \\n\\nRetorne a resposta em {idioma}.                                                 \\nResponda a pergunta seguindo as instruções {pergunta}'\n"
     ]
    }
   ],
   "source": [
    "print(template_final)\n"
   ]
  },
  {
   "cell_type": "code",
   "execution_count": null,
   "metadata": {},
   "outputs": [
    {
     "data": {
      "text/plain": [
       "'\\n\\nWhat is the Sun? '"
      ]
     },
     "execution_count": 11,
     "metadata": {},
     "output_type": "execute_result"
    }
   ],
   "source": [
    "prompt_final = template_final.format(n_palavras=15, n_linhas=1, idioma=\"inglês\", pergunta=\"O que é o Sol?\")\n",
    "llm.invoke(prompt_final)\n"
   ]
  },
  {
   "cell_type": "code",
   "execution_count": null,
   "metadata": {},
   "outputs": [
    {
     "name": "stdout",
     "output_type": "stream",
     "text": [
      "\n",
      "Responda a pergunta em até 15 palavras.\n",
      "\n",
      "Responda a pergunta em até 1 linhas.                                                 \n",
      "\n",
      "Retorne a resposta em inglês.                                                 \n",
      "Responda a pergunta seguindo as instruções O que é o Sol?\n"
     ]
    }
   ],
   "source": [
    "print(prompt_final)\n"
   ]
  },
  {
   "cell_type": "markdown",
   "metadata": {},
   "source": [
    "### Templates para Chat"
   ]
  },
  {
   "cell_type": "code",
   "execution_count": null,
   "metadata": {},
   "outputs": [
    {
     "data": {
      "text/plain": [
       "[HumanMessage(content='Essa é minha dúvida: Quem é você?')]"
      ]
     },
     "execution_count": 14,
     "metadata": {},
     "output_type": "execute_result"
    }
   ],
   "source": [
    "from langchain.prompts import ChatPromptTemplate\n",
    "\n",
    "chat_template = ChatPromptTemplate.from_template(\"Essa é minha dúvida: {duvida}\")\n",
    "chat_template.format_messages(duvida=\"Quem é você?\")\n"
   ]
  },
  {
   "cell_type": "code",
   "execution_count": null,
   "metadata": {},
   "outputs": [],
   "source": [
    "from langchain.prompts import ChatPromptTemplate\n",
    "\n",
    "chat_template = ChatPromptTemplate.from_messages(\n",
    "    [\n",
    "        (\"system\", \"Você é um assistente irônico e se chama {nome_assistente}\"),\n",
    "        (\"human\", \"Olá, como vai?\"),\n",
    "        (\"ai\", \"Estou bem, como posso lhe ajudar?\"),\n",
    "        (\"human\", \"{pergunta}\")\n",
    "    ]\n",
    ")\n"
   ]
  },
  {
   "cell_type": "code",
   "execution_count": null,
   "metadata": {},
   "outputs": [
    {
     "data": {
      "text/plain": [
       "ChatPromptTemplate(input_variables=['nome_assistente', 'pergunta'], messages=[SystemMessagePromptTemplate(prompt=PromptTemplate(input_variables=['nome_assistente'], template='Você é um assistente irônico e se chama {nome_assistente}')), HumanMessagePromptTemplate(prompt=PromptTemplate(input_variables=[], template='Olá, como vai?')), AIMessagePromptTemplate(prompt=PromptTemplate(input_variables=[], template='Estou bem, como posso lhe ajudar?')), HumanMessagePromptTemplate(prompt=PromptTemplate(input_variables=['pergunta'], template='{pergunta}'))])"
      ]
     },
     "execution_count": 19,
     "metadata": {},
     "output_type": "execute_result"
    }
   ],
   "source": [
    "chat_template\n"
   ]
  },
  {
   "cell_type": "code",
   "execution_count": null,
   "metadata": {},
   "outputs": [
    {
     "data": {
      "text/plain": [
       "[SystemMessage(content='Você é um assistente irônico e se chama BotX'),\n",
       " HumanMessage(content='Olá, como vai?'),\n",
       " AIMessage(content='Estou bem, como posso lhe ajudar?'),\n",
       " HumanMessage(content='Qual seu nome?')]"
      ]
     },
     "execution_count": 17,
     "metadata": {},
     "output_type": "execute_result"
    }
   ],
   "source": [
    "chat_template.format_messages(nome_assistente=\"BotX\", pergunta=\"Qual seu nome?\")\n"
   ]
  },
  {
   "cell_type": "code",
   "execution_count": null,
   "metadata": {},
   "outputs": [
    {
     "data": {
      "text/plain": [
       "AIMessage(content='Meu nome é BotX, um assistente irônico pronto para ajudar.', response_metadata={'token_usage': {'completion_tokens': 19, 'prompt_tokens': 55, 'total_tokens': 74, 'completion_tokens_details': {'accepted_prediction_tokens': 0, 'audio_tokens': 0, 'reasoning_tokens': 0, 'rejected_prediction_tokens': 0}, 'prompt_tokens_details': {'audio_tokens': 0, 'cached_tokens': 0}}, 'model_name': 'gpt-3.5-turbo', 'system_fingerprint': None, 'finish_reason': 'stop', 'logprobs': None}, id='run-443368f4-da00-458a-8fb6-fdaae3707736-0')"
      ]
     },
     "execution_count": 18,
     "metadata": {},
     "output_type": "execute_result"
    }
   ],
   "source": [
    "from langchain_openai.chat_models import ChatOpenAI\n",
    "\n",
    "chat = ChatOpenAI()\n",
    "\n",
    "chat.invoke(chat_template.format_messages(nome_assistente=\"BotX\", pergunta=\"Qual seu nome?\"))\n"
   ]
  },
  {
   "cell_type": "markdown",
   "metadata": {},
   "source": [
    "### Few Shot Prompting"
   ]
  },
  {
   "cell_type": "code",
   "execution_count": null,
   "metadata": {},
   "outputs": [],
   "source": [
    "exemplos = [\n",
    "    {\"pergunta\": \"Qual é a maior montanha do mundo, o Monte Everest ou o K2?\", \n",
    "     \"resposta\": \n",
    "     \"\"\"São necessárias perguntas de acompanhamento aqui: Sim. \n",
    "Pergunta de acompanhamento: Qual é a altura do Monte Everest? \n",
    "Resposta intermediária: O Monte Everest tem 8.848 metros de altura. \n",
    "Pergunta de acompanhamento: Qual é a altura do K2? \n",
    "Resposta intermediária: O K2 tem 8.611 metros de altura. \n",
    "Então a resposta final é: Monte Everest \n",
    "\"\"\", \n",
    "    }, \n",
    "    {\"pergunta\": \"Quem nasceu primeiro, Charles Darwin ou Albert Einstein?\", \n",
    "     \"resposta\": \n",
    "     \"\"\"São necessárias perguntas de acompanhamento aqui: Sim. \n",
    "Pergunta de acompanhamento: Quando nasceu Charles Darwin? \n",
    "Resposta intermediária: Charles Darwin nasceu em 12 de fevereiro de 1809. \n",
    "Pergunta de acompanhamento: Quando nasceu Albert Einstein? \n",
    "Resposta intermediária: Albert Einstein nasceu em 14 de março de 1879. \n",
    "Então a resposta final é: Charles Darwin \n",
    "\"\"\", \n",
    "    }, \n",
    "    {\"pergunta\": \"Quem foi o pai de Napoleão Bonaparte?\",\n",
    "     \"resposta\": \n",
    "     \"\"\"São necessárias perguntas de acompanhamento aqui: Sim. \n",
    "Pergunta de acompanhamento: Quem foi Napoleão Bonaparte? \n",
    "Resposta intermediária: Napoleão Bonaparte foi um líder militar e imperador francês. \n",
    "Pergunta de acompanhamento: Quem foi o pai de Napoleão Bonaparte? \n",
    "Resposta intermediária: O pai de Napoleão Bonaparte foi Carlo Buonaparte. \n",
    "Então a resposta final é: Carlo Buonaparte \n",
    "\"\"\", \n",
    "    },\n",
    "    {\"pergunta\": \"Os filmes 'O Senhor dos Anéis' e 'O Hobbit' foram dirigidos pelo mesmo diretor?\", \n",
    "     \"resposta\": \n",
    "     \"\"\"São necessárias perguntas de acompanhamento aqui: Sim. \n",
    "Pergunta de acompanhamento: Quem dirigiu 'O Senhor dos Anéis'? \n",
    "Resposta intermediária: 'O Senhor dos Anéis' foi dirigido por Peter Jackson. \n",
    "Pergunta de acompanhamento: Quem dirigiu 'O Hobbit'? \n",
    "Resposta intermediária: 'O Hobbit' também foi dirigido por Peter Jackson. \n",
    "Então a resposta final é: Sim \n",
    "\"\"\",\n",
    "    },\n",
    "]\n"
   ]
  },
  {
   "cell_type": "code",
   "execution_count": null,
   "metadata": {},
   "outputs": [
    {
     "data": {
      "text/plain": [
       "'Pergunta Qual é a maior montanha do mundo, o Monte Everest ou o K2?\\nSão necessárias perguntas de acompanhamento aqui: Sim. \\nPergunta de acompanhamento: Qual é a altura do Monte Everest? \\nResposta intermediária: O Monte Everest tem 8.848 metros de altura. \\nPergunta de acompanhamento: Qual é a altura do K2? \\nResposta intermediária: O K2 tem 8.611 metros de altura. \\nEntão a resposta final é: Monte Everest \\n'"
      ]
     },
     "execution_count": 20,
     "metadata": {},
     "output_type": "execute_result"
    }
   ],
   "source": [
    "from langchain.prompts.few_shot import FewShotPromptTemplate\n",
    "from langchain.prompts.prompt import PromptTemplate\n",
    "\n",
    "example_prompt = PromptTemplate(\n",
    "    input_variables=[\"pergunta\", \"resposta\"],\n",
    "    template=\"Pergunta {pergunta}\\n{resposta}\"\n",
    ")\n",
    "\n",
    "example_prompt.format(**exemplos[0])\n"
   ]
  },
  {
   "cell_type": "code",
   "execution_count": null,
   "metadata": {},
   "outputs": [],
   "source": [
    "prompt = FewShotPromptTemplate(\n",
    "    examples=exemplos,\n",
    "    example_prompt=example_prompt,\n",
    "    suffix=\"Pergunta: {input}\",\n",
    "    input_variables=[\"input\"]\n",
    ")\n"
   ]
  },
  {
   "cell_type": "code",
   "execution_count": null,
   "metadata": {},
   "outputs": [
    {
     "name": "stdout",
     "output_type": "stream",
     "text": [
      "Pergunta Qual é a maior montanha do mundo, o Monte Everest ou o K2?\n",
      "São necessárias perguntas de acompanhamento aqui: Sim. \n",
      "Pergunta de acompanhamento: Qual é a altura do Monte Everest? \n",
      "Resposta intermediária: O Monte Everest tem 8.848 metros de altura. \n",
      "Pergunta de acompanhamento: Qual é a altura do K2? \n",
      "Resposta intermediária: O K2 tem 8.611 metros de altura. \n",
      "Então a resposta final é: Monte Everest \n",
      "\n",
      "\n",
      "Pergunta Quem nasceu primeiro, Charles Darwin ou Albert Einstein?\n",
      "São necessárias perguntas de acompanhamento aqui: Sim. \n",
      "Pergunta de acompanhamento: Quando nasceu Charles Darwin? \n",
      "Resposta intermediária: Charles Darwin nasceu em 12 de fevereiro de 1809. \n",
      "Pergunta de acompanhamento: Quando nasceu Albert Einstein? \n",
      "Resposta intermediária: Albert Einstein nasceu em 14 de março de 1879. \n",
      "Então a resposta final é: Charles Darwin \n",
      "\n",
      "\n",
      "Pergunta Quem foi o pai de Napoleão Bonaparte?\n",
      "São necessárias perguntas de acompanhamento aqui: Sim. \n",
      "Pergunta de acompanhamento: Quem foi Napoleão Bonaparte? \n",
      "Resposta intermediária: Napoleão Bonaparte foi um líder militar e imperador francês. \n",
      "Pergunta de acompanhamento: Quem foi o pai de Napoleão Bonaparte? \n",
      "Resposta intermediária: O pai de Napoleão Bonaparte foi Carlo Buonaparte. \n",
      "Então a resposta final é: Carlo Buonaparte \n",
      "\n",
      "\n",
      "Pergunta Os filmes 'O Senhor dos Anéis' e 'O Hobbit' foram dirigidos pelo mesmo diretor?\n",
      "São necessárias perguntas de acompanhamento aqui: Sim. \n",
      "Pergunta de acompanhamento: Quem dirigiu 'O Senhor dos Anéis'? \n",
      "Resposta intermediária: 'O Senhor dos Anéis' foi dirigido por Peter Jackson. \n",
      "Pergunta de acompanhamento: Quem dirigiu 'O Hobbit'? \n",
      "Resposta intermediária: 'O Hobbit' também foi dirigido por Peter Jackson. \n",
      "Então a resposta final é: Sim \n",
      "\n",
      "\n",
      "Pergunta: Quem é melhor, Messi ou Cristiano Ronaldo?\n"
     ]
    }
   ],
   "source": [
    "print(prompt.format(input=\"Quem é melhor, Messi ou Cristiano Ronaldo?\"))\n"
   ]
  },
  {
   "cell_type": "code",
   "execution_count": null,
   "metadata": {},
   "outputs": [
    {
     "data": {
      "text/plain": [
       "'\\nSão necessárias perguntas de acompanhamento aqui: Sim. \\nPergunta de acompanhamento: Quantos gols Messi já marcou em sua carreira? \\nResposta intermediária: Messi já marcou 745 gols em sua carreira. \\nPergunta de acompanhamento: Quantos gols Cristiano Ronaldo já marcou em sua carreira? \\nResposta intermediária: Cristiano Ronaldo já marcou 777 gols em sua carreira. \\nEntão a resposta final é: Cristiano Ronaldo'"
      ]
     },
     "execution_count": 23,
     "metadata": {},
     "output_type": "execute_result"
    }
   ],
   "source": [
    "llm.invoke(prompt.format(input=\"Quem fez mais gols, Messi ou Cristiano Ronaldo?\"))\n"
   ]
  },
  {
   "cell_type": "markdown",
   "metadata": {},
   "source": [
    "### Few Shot Prompting em Chat"
   ]
  },
  {
   "cell_type": "code",
   "execution_count": null,
   "metadata": {},
   "outputs": [],
   "source": [
    "from langchain_openai.chat_models import ChatOpenAI\n",
    "\n",
    "chat = ChatOpenAI()\n"
   ]
  },
  {
   "cell_type": "code",
   "execution_count": null,
   "metadata": {},
   "outputs": [
    {
     "name": "stdout",
     "output_type": "stream",
     "text": [
      "[HumanMessage(content='Qual é a maior montanha do mundo, o Monte Everest ou o K2?'), AIMessage(content='São necessárias perguntas de acompanhamento aqui: Sim. \\nPergunta de acompanhamento: Qual é a altura do Monte Everest? \\nResposta intermediária: O Monte Everest tem 8.848 metros de altura. \\nPergunta de acompanhamento: Qual é a altura do K2? \\nResposta intermediária: O K2 tem 8.611 metros de altura. \\nEntão a resposta final é: Monte Everest \\n')]\n"
     ]
    }
   ],
   "source": [
    "from langchain.prompts.few_shot import FewShotChatMessagePromptTemplate\n",
    "from langchain.prompts import ChatPromptTemplate\n",
    "\n",
    "example_prompt = ChatPromptTemplate.from_messages(\n",
    "    [(\"human\", \"{pergunta}\"),\n",
    "     (\"ai\", \"{resposta}\")]\n",
    ")\n",
    "\n",
    "print(example_prompt.format_messages(**exemplos[0]))\n"
   ]
  },
  {
   "cell_type": "code",
   "execution_count": null,
   "metadata": {},
   "outputs": [],
   "source": [
    "few_shot_template = FewShotChatMessagePromptTemplate(\n",
    "    examples=exemplos,\n",
    "    example_prompt=example_prompt\n",
    ")\n",
    "\n",
    "prompt_final = ChatPromptTemplate.from_messages([\n",
    "    few_shot_template,\n",
    "    (\"human\", \"{input}\")\n",
    "])\n",
    "\n",
    "prompt = prompt_final.format_messages(input=\"Quem fez mais gols, Messi ou Cristiano Ronaldo?\")\n",
    "# few_shot_template.format_messages()\n"
   ]
  },
  {
   "cell_type": "code",
   "execution_count": null,
   "metadata": {},
   "outputs": [
    {
     "data": {
      "text/plain": [
       "AIMessage(content='Até o momento em que esta resposta foi escrita, Cristiano Ronaldo marcou mais gols do que Lionel Messi em suas carreiras profissionais. Cristiano Ronaldo é conhecido por sua incrível capacidade de marcar gols, sendo um dos maiores goleadores da história do futebol. No entanto, é importante ressaltar que a comparação entre os dois jogadores pode variar dependendo dos critérios utilizados, como competições, seleções nacionais, entre outros.', response_metadata={'token_usage': {'completion_tokens': 110, 'prompt_tokens': 520, 'total_tokens': 630, 'completion_tokens_details': {'accepted_prediction_tokens': 0, 'audio_tokens': 0, 'reasoning_tokens': 0, 'rejected_prediction_tokens': 0}, 'prompt_tokens_details': {'audio_tokens': 0, 'cached_tokens': 0}}, 'model_name': 'gpt-3.5-turbo', 'system_fingerprint': None, 'finish_reason': 'stop', 'logprobs': None}, id='run-fd031f39-e224-4949-a772-897405b59400-0')"
      ]
     },
     "execution_count": 27,
     "metadata": {},
     "output_type": "execute_result"
    }
   ],
   "source": [
    "chat.invoke(prompt)\n"
   ]
  }
 ],
 "metadata": {
  "kernelspec": {
   "display_name": ".venv",
   "language": "python",
   "name": "python3"
  },
  "language_info": {
   "codemirror_mode": {
    "name": "ipython",
    "version": 3
   },
   "file_extension": ".py",
   "mimetype": "text/x-python",
   "name": "python",
   "nbconvert_exporter": "python",
   "pygments_lexer": "ipython3",
   "version": "3.12.7"
  }
 },
 "nbformat": 4,
 "nbformat_minor": 2
}
